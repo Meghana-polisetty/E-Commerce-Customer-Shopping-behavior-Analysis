{
 "cells": [
  {
   "cell_type": "code",
   "execution_count": 6,
   "id": "0992f135",
   "metadata": {},
   "outputs": [
    {
     "ename": "ModuleNotFoundError",
     "evalue": "No module named 'psycopg2'",
     "output_type": "error",
     "traceback": [
      "\u001b[0;31m---------------------------------------------------------------------------\u001b[0m",
      "\u001b[0;31mModuleNotFoundError\u001b[0m                       Traceback (most recent call last)",
      "\u001b[0;32m<ipython-input-6-f1c8eb1f7714>\u001b[0m in \u001b[0;36m<module>\u001b[0;34m\u001b[0m\n\u001b[1;32m      1\u001b[0m \u001b[0;32mimport\u001b[0m \u001b[0msqlalchemy\u001b[0m\u001b[0;34m\u001b[0m\u001b[0;34m\u001b[0m\u001b[0m\n\u001b[0;32m----> 2\u001b[0;31m \u001b[0;32mimport\u001b[0m \u001b[0mpsycopg2\u001b[0m\u001b[0;34m\u001b[0m\u001b[0;34m\u001b[0m\u001b[0m\n\u001b[0m\u001b[1;32m      3\u001b[0m \u001b[0;32mfrom\u001b[0m \u001b[0msqlalchemy\u001b[0m \u001b[0;32mimport\u001b[0m \u001b[0mcreate_engine\u001b[0m\u001b[0;34m\u001b[0m\u001b[0;34m\u001b[0m\u001b[0m\n\u001b[1;32m      4\u001b[0m \u001b[0;32mfrom\u001b[0m \u001b[0msqlalchemy\u001b[0m\u001b[0;34m.\u001b[0m\u001b[0morm\u001b[0m \u001b[0;32mimport\u001b[0m \u001b[0mscoped_session\u001b[0m\u001b[0;34m,\u001b[0m \u001b[0msessionmaker\u001b[0m\u001b[0;34m\u001b[0m\u001b[0;34m\u001b[0m\u001b[0m\n\u001b[1;32m      5\u001b[0m \u001b[0;32mfrom\u001b[0m \u001b[0mdatetime\u001b[0m \u001b[0;32mimport\u001b[0m \u001b[0mdatetime\u001b[0m\u001b[0;34m,\u001b[0m\u001b[0mtimedelta\u001b[0m\u001b[0;34m\u001b[0m\u001b[0;34m\u001b[0m\u001b[0m\n",
      "\u001b[0;31mModuleNotFoundError\u001b[0m: No module named 'psycopg2'"
     ]
    }
   ],
   "source": [
    "import sqlalchemy \n",
    "import psycopg2\n",
    "from sqlalchemy import create_engine \n",
    "from sqlalchemy.orm import scoped_session, sessionmaker\n",
    "from datetime import datetime,timedelta\n",
    "import os\n",
    "\n",
    "def handler(event, context):\n",
    "   for record in event['Records']:\n",
    "    \n",
    "    x\n",
    "    \n",
    "        \n",
    "    #   S3_BUCKET = record['s3']['bucket']['name']\n",
    "    #   S3_OBJECT = record['s3']['object']['key']\n",
    "    S3_BUCKET = 's3://bigdata-snowflake'\n",
    "    S3_OBJECT = 'bigdata_project/shopping_events_transformed/file1.csv'  \n",
    "    \n",
    "# Arguments\n",
    "    DBC= os.environ[\"CON\"]\n",
    "    RS_TABLE = os.environ[\"Table\"]\n",
    "    RS_PORT = \"5439\"\n",
    "    DELIMITER = \"','\"\n",
    "    REGION = \"'us-west-2' \"\n",
    "    # Connection\n",
    "    engine = create_engine(DBC)\n",
    "    db = scoped_session(sessionmaker(bind=engine))\n",
    "    # Send files from S3 into redshift\n",
    "    copy_query = \"COPY \"+RS_TABLE+\" from 's3://\"+   S3_BUCKET+'/'+S3_OBJECT+\"' iam_role 'arn:aws:iam::417994528411:role/lambda_s3_redshift_developer' delimiter \"+DELIMITER+\" IGNOREHEADER 1 REGION \" + REGION\n",
    "    # Execute querie\n",
    "    db.execute(copy_query)\n",
    "    db.commit()\n",
    "    db.close()"
   ]
  },
  {
   "cell_type": "code",
   "execution_count": null,
   "id": "fbd9b208",
   "metadata": {},
   "outputs": [],
   "source": []
  },
  {
   "cell_type": "code",
   "execution_count": null,
   "id": "e49cab94",
   "metadata": {},
   "outputs": [],
   "source": []
  }
 ],
 "metadata": {
  "kernelspec": {
   "display_name": "Python 3",
   "language": "python",
   "name": "python3"
  },
  "language_info": {
   "codemirror_mode": {
    "name": "ipython",
    "version": 3
   },
   "file_extension": ".py",
   "mimetype": "text/x-python",
   "name": "python",
   "nbconvert_exporter": "python",
   "pygments_lexer": "ipython3",
   "version": "3.8.8"
  }
 },
 "nbformat": 4,
 "nbformat_minor": 5
}
